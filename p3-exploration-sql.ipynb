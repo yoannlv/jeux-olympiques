{
 "cells": [
  {
   "cell_type": "markdown",
   "metadata": {},
   "source": [
    "# P3. Exploration SQL"
   ]
  },
  {
   "cell_type": "markdown",
   "metadata": {},
   "source": [
    "Le répertoire `/db` contient une base de données SQLite3 `olympics.sqbpro` reprenant les résultats des épreuves des jeux d'été pour une période donnée (cf P1 & P2).\n",
    "\n",
    "On s'intéresse dans le cadre de cette partie P3 à l'exploration via SQL des résultats des JO d'été (table : `summer`)."
   ]
  },
  {
   "cell_type": "markdown",
   "metadata": {},
   "source": [
    "---"
   ]
  },
  {
   "cell_type": "markdown",
   "metadata": {},
   "source": [
    "### Question 1: Qu'est ce que SQL ?"
   ]
  },
  {
   "cell_type": "markdown",
   "metadata": {},
   "source": [
    "Le SQL **(Structured Query Language)** est un langage permettant de communiquer avec une base de données.\n",
    "Ce langage informatique est notamment très utilisé par les développeurs web pour communiquer avec les données d’un site web. Il est possible de créer ou supprimer des objets dans la base de données, mais aussi manipuler des bases de données en effectuant des requêtes qui permettent d'analyser les données de celle-ci.\n",
    "\n",
    "Ce langage est structuré, c’est-à-dire que la syntaxe est toujours la même et respecte des normes très précises."
   ]
  },
  {
   "cell_type": "markdown",
   "metadata": {},
   "source": [
    "### Question 2: Qu'est ce que SQLite 3 ? Avantages et/ou Inconvénients ?"
   ]
  },
  {
   "cell_type": "markdown",
   "metadata": {},
   "source": [
    "**SQLite** est un système de base de données simplifié de MySQL. SQLite3 est la 3ème version qui apporte de meilleures\n",
    "performances que les versions précédentes, telles que l'auto increment, un stockage plus efficace et un support des clés étrangères.\n",
    "Les principaux avantages de SQLite est qu'il est plus simple d'utilisation, fonctionne sans serveur, et possède la majeure partie des fonctions classiques.\n",
    "\n",
    "Il manque en revanche certaines fonctions qui peuvent s'avérer utiles dans certains cas (ex : ALTER TABLE, COUNT (DISTINCT X). Il ne reconnaît par ailleurs ni les transactions imbriquées, ni les déclencheurs, et ne permet pas la réplication. Il est donc réservé à des besoins basiques."
   ]
  },
  {
   "cell_type": "markdown",
   "metadata": {},
   "source": [
    "### Question 3: Donner des exemples d'autres formats de fichier pouvant être utilisé pour fournir des données similaires "
   ]
  },
  {
   "cell_type": "markdown",
   "metadata": {},
   "source": [
    ".xls, json"
   ]
  },
  {
   "cell_type": "markdown",
   "metadata": {},
   "source": [
    "### Question 4: Quel est le type (texte ou binaire) du fichier base de données SQLite3?"
   ]
  },
  {
   "cell_type": "markdown",
   "metadata": {},
   "source": [
    "Le fichier `olympics.sqbpro` est un fichier binaire."
   ]
  },
  {
   "cell_type": "markdown",
   "metadata": {},
   "source": [
    "### Question 5: Donner les caractéristiques de la table `summer` ? "
   ]
  },
  {
   "cell_type": "markdown",
   "metadata": {},
   "source": [
    "Cette table donne tous les médaillés des Jeux olympiques d'été, en détaillant pour chaque médaille remportée :\n",
    "\n",
    "*Année de l'édition\n",
    "\n",
    "*Ville de l'édition\n",
    "\n",
    "*Catégorie du sport\n",
    "\n",
    "*Sport pratiqué\n",
    "\n",
    "*Nom de l'athlète\n",
    "\n",
    "*Nationalité de l'athlète\n",
    "\n",
    "*Genre de l'athlète\n",
    "\n",
    "*Nom de l'épreuve\n",
    "\n",
    "*Médaille (or, argent, bronze)"
   ]
  },
  {
   "cell_type": "markdown",
   "metadata": {},
   "source": [
    "---\n",
    "### Question 6: Combien d'enregistrements possède la table `summer` ?"
   ]
  },
  {
   "cell_type": "markdown",
   "metadata": {},
   "source": [
    "SELECT count(*)\n",
    "\n",
    "FROM summer\n",
    "\n",
    "![Question6](C:\\Users\\levog\\Simplon\\jeux-olympiques\\SQLJO\\Question_6.png)"
   ]
  },
  {
   "cell_type": "markdown",
   "metadata": {},
   "source": [
    "### Question 7: Quelle période des JO couvre ce fichier de résultats ?"
   ]
  },
  {
   "cell_type": "markdown",
   "metadata": {},
   "source": [
    "SELECT min(Year), max(Year)\n",
    "\n",
    "FROM summer\n",
    "\n",
    "![Question7](C:\\Users\\levog\\Simplon\\jeux-olympiques\\SQLJO\\Question_7.png)"
   ]
  },
  {
   "cell_type": "markdown",
   "metadata": {},
   "source": [
    "### Question 8: Indiquer les années et villes des olympiades ? "
   ]
  },
  {
   "cell_type": "markdown",
   "metadata": {},
   "source": [
    "SELECT DISTINCT Year, City\n",
    "\n",
    "FROM summer\n",
    "\n",
    "![Question8](C:\\Users\\levog\\Simplon\\jeux-olympiques\\SQLJO\\Question_8.png)"
   ]
  },
  {
   "cell_type": "markdown",
   "metadata": {},
   "source": [
    "### Questions Google Drive: "
   ]
  },
  {
   "cell_type": "markdown",
   "metadata": {},
   "source": [
    "**Q3. En 2012 combien de médailles le Japon a t-il gagné ?**"
   ]
  },
  {
   "cell_type": "markdown",
   "metadata": {},
   "source": [
    "SELECT count(*)\n",
    "\n",
    "FROM (\n",
    "\n",
    "SELECT *\n",
    "\n",
    "FROM summer\n",
    "\n",
    "WHERE Year = 2012 AND Country = \"JPN\"\n",
    "\n",
    "GROUP BY Sport, Discipline, Gender, Event\n",
    "\n",
    ")\n",
    "\n",
    "![Q.3](C:\\Users\\levog\\Simplon\\jeux-olympiques\\SQLJO\\Q3.png)"
   ]
  },
  {
   "cell_type": "markdown",
   "metadata": {},
   "source": [
    "**Q17. Entre 1984 et 2012 combien de médailles a gagné la France ?**"
   ]
  },
  {
   "cell_type": "markdown",
   "metadata": {},
   "source": [
    "SELECT count(*)\n",
    "\n",
    "FROM(\n",
    "\n",
    "SELECT *\n",
    "\n",
    "FROM summer\n",
    "\n",
    "WHERE Year >= 1984 AND Year <= 2012 AND Country = \"FRA\"\n",
    "\n",
    "GROUP BY Year, Sport, Discipline, Gender, Event\n",
    "\n",
    ")\n",
    "\n",
    "![Q17](C:\\Users\\levog\\Simplon\\jeux-olympiques\\SQLJO\\Q17.png)"
   ]
  },
  {
   "cell_type": "markdown",
   "metadata": {},
   "source": [
    "**Q10. Combien de joueuses comptait la sélection brésilienne de volley-ball médaillée d’or aux J.O de 2012 ?**"
   ]
  },
  {
   "cell_type": "markdown",
   "metadata": {},
   "source": [
    "SELECT count(*)\n",
    "\n",
    "FROM summer\n",
    "\n",
    "WHERE Country = \"BRA\" AND Discipline = \"Volleyball\" AND Gender = \"Women\" AND Year = 2012\n",
    "\n",
    "![Q10](C:\\Users\\levog\\Simplon\\jeux-olympiques\\SQLJO\\Q10.png)"
   ]
  },
  {
   "cell_type": "markdown",
   "metadata": {},
   "source": [
    "**Q13. Est-ce que la France à déjà gagné une médaille d’or au cricket ?**"
   ]
  },
  {
   "cell_type": "markdown",
   "metadata": {},
   "source": [
    "SELECT count(*)\n",
    "\n",
    "FROM summer\n",
    "\n",
    "WHERE Country = \"FRA\" AND Discipline = \"Cricket\" AND Medal = \"Gold\"\n",
    "\n",
    "![Q13](C:\\Users\\levog\\Simplon\\jeux-olympiques\\SQLJO\\Q13.png)"
   ]
  },
  {
   "cell_type": "markdown",
   "metadata": {},
   "source": [
    "**Q12. Quel est l’athlète qui a remporté le plus de médailles d’or ?**"
   ]
  },
  {
   "cell_type": "markdown",
   "metadata": {},
   "source": [
    "SELECT Athlete\n",
    "\n",
    "FROM summer\n",
    "\n",
    "WHERE Medal = \"Gold\"\n",
    "\n",
    "GROUP BY Athlete\n",
    "\n",
    "ORDER BY COUNT(*) DESC\n",
    "\n",
    "LIMIT 1\n",
    "\n",
    "![Q12](C:\\Users\\levog\\Simplon\\jeux-olympiques\\SQLJO\\Q12.png)"
   ]
  },
  {
   "cell_type": "markdown",
   "metadata": {},
   "source": [
    "**Q5. Quel pays a remporté le plus de médailles d’or ?**"
   ]
  },
  {
   "cell_type": "markdown",
   "metadata": {},
   "source": [
    "SELECT Country, count(*)\n",
    "\n",
    "FROM(\n",
    "\n",
    "SELECT *\n",
    "\n",
    "FROM summer\n",
    "\n",
    "WHERE Medal = \"Gold\"\n",
    "\n",
    "GROUP BY Year, Sport, Discipline, Gender, Event\n",
    "\n",
    "ORDER BY Count(*) DESC\n",
    "\n",
    ")\n",
    "\n",
    "GROUP BY Country\n",
    "\n",
    "ORDER BY count(*) DESC\n",
    "\n",
    "LIMIT 1\n",
    "\n",
    "![Q5](C:\\Users\\levog\\Simplon\\jeux-olympiques\\SQLJO\\Q5.png)"
   ]
  },
  {
   "cell_type": "markdown",
   "metadata": {},
   "source": [
    "**Q15. Le nombre de médailles d’or par pays en 2012**"
   ]
  },
  {
   "cell_type": "markdown",
   "metadata": {},
   "source": [
    "SELECT Country, count(*)\n",
    "\n",
    "FROM(\n",
    "\n",
    "SELECT *, count(*)\n",
    "\n",
    "FROM summer\n",
    "\n",
    "WHERE Medal = \"Gold\" AND Year = 2012\n",
    "\n",
    "GROUP BY Sport, Discipline, Event, Gender\n",
    "\n",
    ")\n",
    "\n",
    "GROUP BY Country\n",
    "\n",
    "ORDER BY count(*) DESC\n",
    "\n",
    "![Q15](C:\\Users\\levog\\Simplon\\jeux-olympiques\\SQLJO\\Q15.png)"
   ]
  },
  {
   "cell_type": "markdown",
   "metadata": {},
   "source": [
    "**Q1. Combien la France a remporté de médailles d’or aux JO de 1984 ?**"
   ]
  },
  {
   "cell_type": "markdown",
   "metadata": {},
   "source": [
    "*#requête imbriquée#*\n",
    "\n",
    "SELECT Count(*)\n",
    "\n",
    "FROM(\n",
    "\n",
    "SELECT Athlete, Sport, Discipline, Event, Gender, count(*)\n",
    "\n",
    "FROM summer\n",
    "\n",
    "WHERE Year = 1984 AND Country = \"FRA\"  AND Medal = \"Gold\"\n",
    "\n",
    "GROUP BY Sport, Discipline, Event, Gender\n",
    "\n",
    ")\n",
    "\n",
    "![Q.1](C:\\Users\\levog\\Simplon\\jeux-olympiques\\SQLJO\\Q1.png)"
   ]
  },
  {
   "cell_type": "markdown",
   "metadata": {},
   "source": [
    "**Q11. Combien de femmes françaises ont ont remporté des médailles en 2012, quelle sont leurs médailles ?**"
   ]
  },
  {
   "cell_type": "markdown",
   "metadata": {},
   "source": [
    "SELECT count(DISTINCT Athlete)\n",
    "\n",
    "FROM summer\n",
    "\n",
    "WHERE Gender = \"Women\" AND Country = \"FRA\" AND Year = \"2012\"\n",
    "\n",
    "![Q11_1](C:\\Users\\levog\\Simplon\\jeux-olympiques\\SQLJO\\Q11_1.png)\n",
    "\n",
    "SELECT Medal, count(*)\n",
    "\n",
    "FROM summer\n",
    "\n",
    "WHERE Gender = \"Women\" AND Country = \"FRA\" AND Year = \"2012\"\n",
    "\n",
    "GROUP BY Medal\n",
    "\n",
    "![Q11_2](C:\\Users\\levog\\Simplon\\jeux-olympiques\\SQLJO\\Q11_2.png)"
   ]
  },
  {
   "cell_type": "markdown",
   "metadata": {},
   "source": [
    "**Q9. Combien de fois Londres a accueilli les J.O ?**"
   ]
  },
  {
   "cell_type": "markdown",
   "metadata": {},
   "source": [
    "SELECT count(DISTINCT Year)\n",
    "\n",
    "FROM summer\n",
    "\n",
    "WHERE City = \"London\"\n",
    "\n",
    "![Q9](C:\\Users\\levog\\Simplon\\jeux-olympiques\\SQLJO\\Q9.png)"
   ]
  },
  {
   "cell_type": "markdown",
   "metadata": {},
   "source": [
    "**Q6. Combien de villes différentes ont accueilli les JO d’été entre 1896 et 2012 ?**"
   ]
  },
  {
   "cell_type": "markdown",
   "metadata": {},
   "source": [
    "SELECT count(DISTINCT City)\n",
    "\n",
    "FROM summer\n",
    "\n",
    "WHERE Year >=1896 AND Year <= 2012\n",
    "\n",
    "![Q6](C:\\Users\\levog\\Simplon\\jeux-olympiques\\SQLJO\\Q6.png)"
   ]
  },
  {
   "cell_type": "markdown",
   "metadata": {},
   "source": [
    "**Q16. Combien de femmes ont remporté des médailles ?**"
   ]
  },
  {
   "cell_type": "markdown",
   "metadata": {},
   "source": [
    "SELECT count(DISTINCT Athlete)\n",
    "\n",
    "FROM summer\n",
    "\n",
    "WHERE Gender = \"Women\"\n",
    "\n",
    "![Q16](C:\\Users\\levog\\Simplon\\jeux-olympiques\\SQLJO\\Q16.png)"
   ]
  },
  {
   "cell_type": "markdown",
   "metadata": {},
   "source": [
    "**Q7. Combien de femmes ont obtenu  une médaille d’or ?**"
   ]
  },
  {
   "cell_type": "markdown",
   "metadata": {},
   "source": [
    "SELECT count(DISTINCT Athlete)\n",
    "\n",
    "FROM summer\n",
    "\n",
    "WHERE Gender = \"Women\" AND Medal = \"Gold\"\n",
    "\n",
    "![Q7](C:\\Users\\levog\\Simplon\\jeux-olympiques\\SQLJO\\Q7.png)"
   ]
  },
  {
   "cell_type": "markdown",
   "metadata": {},
   "source": [
    "**Q2. Quel pays a le plus d’athlètes ?**"
   ]
  },
  {
   "cell_type": "markdown",
   "metadata": {},
   "source": [
    "SELECT Country, count(DISTINCT Athlete)\n",
    "\n",
    "FROM summer\n",
    "\n",
    "GROUP BY Country\n",
    "\n",
    "ORDER BY count(DISTINCT Athlete) DESC\n",
    "\n",
    "LIMIT 1\n",
    "\n",
    "![Q2](C:\\Users\\levog\\Simplon\\jeux-olympiques\\SQLJO\\Q2.png)"
   ]
  },
  {
   "cell_type": "markdown",
   "metadata": {},
   "source": [
    "**Q8. Combien de sports différents sont représentés par année ?**"
   ]
  },
  {
   "cell_type": "markdown",
   "metadata": {},
   "source": [
    "SELECT Year, count(DISTINCT Sport)\n",
    "\n",
    "FROM summer\n",
    "\n",
    "GROUP BY Year\n",
    "\n",
    "![Q.8](C:\\Users\\levog\\Simplon\\jeux-olympiques\\SQLJO\\Q8.png)"
   ]
  },
  {
   "cell_type": "markdown",
   "metadata": {},
   "source": [
    "**Q4. Dans quels différents sports les Grecs ont-ils gagné des médailles ?**"
   ]
  },
  {
   "cell_type": "markdown",
   "metadata": {},
   "source": [
    "SELECT Sport, count(Medal)\n",
    "\n",
    "FROM summer\n",
    "\n",
    "WHERE Country = \"GRE\"\n",
    "\n",
    "GROUP BY Sport\n",
    "\n",
    "ORDER BY count(Medal) DESC\n",
    "\n",
    "![Q4](C:\\Users\\levog\\Simplon\\jeux-olympiques\\SQLJO\\Q4.png)"
   ]
  },
  {
   "cell_type": "markdown",
   "metadata": {},
   "source": [
    "--- "
   ]
  },
  {
   "cell_type": "markdown",
   "metadata": {},
   "source": [
    "Fin"
   ]
  }
 ],
 "metadata": {
  "kernelspec": {
   "display_name": "Python 3",
   "language": "python",
   "name": "python3"
  },
  "language_info": {
   "codemirror_mode": {
    "name": "ipython",
    "version": 3
   },
   "file_extension": ".py",
   "mimetype": "text/x-python",
   "name": "python",
   "nbconvert_exporter": "python",
   "pygments_lexer": "ipython3",
   "version": "3.8.6"
  }
 },
 "nbformat": 4,
 "nbformat_minor": 4
}
